{
 "cells": [
  {
   "cell_type": "markdown",
   "metadata": {},
   "source": [
    "#  04 Aishawariya Athawale\n",
    "#  08 Pankti Fadia\n",
    "#  10 Hetvi Julasana"
   ]
  },
  {
   "cell_type": "markdown",
   "metadata": {},
   "source": [
    "##  Parsing Assignment 4"
   ]
  },
  {
   "cell_type": "markdown",
   "metadata": {},
   "source": [
    "####  Using context free grammar"
   ]
  },
  {
   "cell_type": "code",
   "execution_count": 1,
   "metadata": {},
   "outputs": [],
   "source": [
    "import nltk"
   ]
  },
  {
   "cell_type": "code",
   "execution_count": 2,
   "metadata": {},
   "outputs": [
    {
     "name": "stdout",
     "output_type": "stream",
     "text": [
      "[('a', 'DT'), ('pilot', 'NN'), ('likes', 'VBZ'), ('flying', 'VBG'), ('planes', 'NNS')]\n"
     ]
    }
   ],
   "source": [
    "text = \"a pilot likes flying planes\"\n",
    "tokens = nltk.word_tokenize(text)\n",
    "pos_token = nltk.pos_tag(tokens)\n",
    "print(pos_token)"
   ]
  },
  {
   "cell_type": "code",
   "execution_count": 3,
   "metadata": {},
   "outputs": [],
   "source": [
    "txt1 = \"John likes Mary\".split()\n",
    "txt2 = \"Mary saw Bob at the park\".split()\n",
    "txt3 = \"a pilot likes flying planes\".split()\n",
    "txt4 = \"a cat ate the cookie\".split()\n",
    "txt5 = \"dog cookie ate\".split()\n",
    "txt6 = \"Mary saw park at later\".split()\n",
    "txt7 = \"a cat enters the park\".split()"
   ]
  },
  {
   "cell_type": "code",
   "execution_count": 22,
   "metadata": {},
   "outputs": [],
   "source": [
    "grammar = nltk.CFG.fromstring(\"\"\"\n",
    " S -> NP VP\n",
    " VP -> V NP | V NP PP | VBG NNS |VBZ VP | VBZ NP\n",
    " V -> \"saw\" | \"ate\"\n",
    " NP -> \"John\" | \"Mary\" | \"Bob\" | Det NN | Det NN PP | JJ NNS\n",
    " Det -> \"a\" | \"an\" | \"the\" | \"my\"\n",
    " NN -> \"dog\" | \"cat\" | \"cookie\" | \"park\" |\"pilot\"\n",
    " PP -> P NP\n",
    " P -> \"in\" | \"on\" | \"by\" |\n",
    " VBZ -> \"likes\" | \"is\" | \"enters\" | \"has\" | \"makes\"\n",
    " VBG -> \"flying\" | \"having\" | \"using\" | \"causing\"\n",
    " JJ -> \"flying\" | \"old\" | \"new\" | \"brief\" | \"high\" | \"likely\" | \"later\"\n",
    " NNS -> \"planes\" | \"properties\" | \"years\" | \"filters\" | \"workers\"\n",
    " IN -> \"once\" | \"upto\" | \"ago\" | \"as\" | \"with\" | \"at\"\n",
    " \"\"\")"
   ]
  },
  {
   "cell_type": "code",
   "execution_count": 23,
   "metadata": {},
   "outputs": [],
   "source": [
    "rd_parser = nltk.RecursiveDescentParser(grammar)\n",
    "\n",
    "def parsing(sent):\n",
    "    syntax = 1\n",
    "    for w in rd_parser.parse(sent):\n",
    "        syntax = 0\n",
    "        print(\"\\n Grammar is correct \\n\")\n",
    "        return (str(w))\n",
    "    if syntax == 1:\n",
    "        print(\"\\n Grammar is incorrect \\n\")\n",
    "        return (sent)"
   ]
  },
  {
   "cell_type": "code",
   "execution_count": 24,
   "metadata": {},
   "outputs": [
    {
     "name": "stdout",
     "output_type": "stream",
     "text": [
      "\n",
      " Grammar is correct \n",
      "\n"
     ]
    },
    {
     "data": {
      "text/plain": [
       "'(S (NP John) (VP (VBZ likes) (NP Mary)))'"
      ]
     },
     "execution_count": 24,
     "metadata": {},
     "output_type": "execute_result"
    }
   ],
   "source": [
    "parsing(txt1)"
   ]
  },
  {
   "cell_type": "code",
   "execution_count": 25,
   "metadata": {},
   "outputs": [
    {
     "name": "stdout",
     "output_type": "stream",
     "text": [
      "\n",
      " Grammar is incorrect \n",
      "\n"
     ]
    },
    {
     "data": {
      "text/plain": [
       "['Mary', 'saw', 'Bob', 'at', 'the', 'park']"
      ]
     },
     "execution_count": 25,
     "metadata": {},
     "output_type": "execute_result"
    }
   ],
   "source": [
    "parsing(txt2)"
   ]
  },
  {
   "cell_type": "code",
   "execution_count": 26,
   "metadata": {},
   "outputs": [
    {
     "name": "stdout",
     "output_type": "stream",
     "text": [
      "\n",
      " Grammar is correct \n",
      "\n"
     ]
    },
    {
     "data": {
      "text/plain": [
       "'(S\\n  (NP (Det a) (NN pilot))\\n  (VP (VBZ likes) (VP (VBG flying) (NNS planes))))'"
      ]
     },
     "execution_count": 26,
     "metadata": {},
     "output_type": "execute_result"
    }
   ],
   "source": [
    "parsing(txt3)"
   ]
  },
  {
   "cell_type": "code",
   "execution_count": 27,
   "metadata": {},
   "outputs": [
    {
     "name": "stdout",
     "output_type": "stream",
     "text": [
      "\n",
      " Grammar is correct \n",
      "\n"
     ]
    },
    {
     "data": {
      "text/plain": [
       "'(S (NP (Det a) (NN cat)) (VP (V ate) (NP (Det the) (NN cookie))))'"
      ]
     },
     "execution_count": 27,
     "metadata": {},
     "output_type": "execute_result"
    }
   ],
   "source": [
    "parsing(txt4)"
   ]
  },
  {
   "cell_type": "code",
   "execution_count": 28,
   "metadata": {},
   "outputs": [
    {
     "name": "stdout",
     "output_type": "stream",
     "text": [
      "\n",
      " Grammar is incorrect \n",
      "\n"
     ]
    },
    {
     "data": {
      "text/plain": [
       "['dog', 'cookie', 'ate']"
      ]
     },
     "execution_count": 28,
     "metadata": {},
     "output_type": "execute_result"
    }
   ],
   "source": [
    "parsing(txt5)"
   ]
  },
  {
   "cell_type": "code",
   "execution_count": 29,
   "metadata": {},
   "outputs": [
    {
     "name": "stdout",
     "output_type": "stream",
     "text": [
      "\n",
      " Grammar is incorrect \n",
      "\n"
     ]
    },
    {
     "data": {
      "text/plain": [
       "['Mary', 'saw', 'park', 'at', 'later']"
      ]
     },
     "execution_count": 29,
     "metadata": {},
     "output_type": "execute_result"
    }
   ],
   "source": [
    "parsing(txt6)"
   ]
  },
  {
   "cell_type": "code",
   "execution_count": 30,
   "metadata": {},
   "outputs": [
    {
     "name": "stdout",
     "output_type": "stream",
     "text": [
      "\n",
      " Grammar is correct \n",
      "\n"
     ]
    },
    {
     "data": {
      "text/plain": [
       "'(S (NP (Det a) (NN cat)) (VP (VBZ enters) (NP (Det the) (NN park))))'"
      ]
     },
     "execution_count": 30,
     "metadata": {},
     "output_type": "execute_result"
    }
   ],
   "source": [
    "parsing(txt7)"
   ]
  },
  {
   "cell_type": "code",
   "execution_count": 31,
   "metadata": {},
   "outputs": [],
   "source": [
    "parser = nltk.ChartParser(grammar)\n",
    "\n",
    "def parsing1(word):\n",
    "    for tree in parser.parse(word):\n",
    "        print(tree)"
   ]
  },
  {
   "cell_type": "code",
   "execution_count": 32,
   "metadata": {},
   "outputs": [
    {
     "name": "stdout",
     "output_type": "stream",
     "text": [
      "(S (NP John) (VP (VBZ likes) (NP Mary)))\n"
     ]
    }
   ],
   "source": [
    "parsing1(txt1)"
   ]
  },
  {
   "cell_type": "code",
   "execution_count": 33,
   "metadata": {},
   "outputs": [
    {
     "name": "stdout",
     "output_type": "stream",
     "text": [
      "(S (NP (Det a) (NN cat)) (VP (VBZ enters) (NP (Det the) (NN park))))\n"
     ]
    }
   ],
   "source": [
    "parsing1(txt7)"
   ]
  },
  {
   "cell_type": "code",
   "execution_count": null,
   "metadata": {},
   "outputs": [],
   "source": []
  }
 ],
 "metadata": {
  "kernelspec": {
   "display_name": "Python 3",
   "language": "python",
   "name": "python3"
  },
  "language_info": {
   "codemirror_mode": {
    "name": "ipython",
    "version": 3
   },
   "file_extension": ".py",
   "mimetype": "text/x-python",
   "name": "python",
   "nbconvert_exporter": "python",
   "pygments_lexer": "ipython3",
   "version": "3.8.1"
  }
 },
 "nbformat": 4,
 "nbformat_minor": 4
}
