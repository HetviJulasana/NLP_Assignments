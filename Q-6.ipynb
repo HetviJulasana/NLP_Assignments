{
 "cells": [
  {
   "cell_type": "code",
   "execution_count": null,
   "metadata": {
    "id": "bKkb4ppCiWcC"
   },
   "outputs": [],
   "source": [
    "# Import libraries\n",
    "\n",
    "# core libs\n",
    "import random\n",
    "from collections import Counter\n",
    "\n",
    "# numpy\n",
    "import numpy as np\n",
    "\n",
    "# Sklearn\n",
    "import sklearn\n",
    "from sklearn.preprocessing import LabelEncoder\n",
    "from sklearn.model_selection import train_test_split\n",
    "from sklearn.metrics import classification_report\n",
    "\n",
    "# keras\n",
    "import keras\n",
    "from keras.preprocessing.sequence import pad_sequences\n",
    "from keras.utils import to_categorical\n",
    "from keras.layers import Input, Embedding, Conv1D, MaxPool1D, Flatten, Dense\n",
    "from keras.models import Model"
   ]
  },
  {
   "cell_type": "code",
   "execution_count": null,
   "metadata": {
    "colab": {
     "base_uri": "https://localhost:8080/"
    },
    "id": "oD6KZKi2iWcl",
    "outputId": "39f5a079-d278-4e39-abc1-6518f9ea2572"
   },
   "outputs": [
    {
     "name": "stdout",
     "output_type": "stream",
     "text": [
      "keras= 2.4.3\n",
      "sklearn= 0.22.2.post1\n",
      "numpy= 1.18.5\n"
     ]
    }
   ],
   "source": [
    "# Library versions\n",
    "print(f'keras= {keras.__version__}')\n",
    "print(f'sklearn= {sklearn.__version__}')\n",
    "print(f'numpy= {np.__version__}')"
   ]
  },
  {
   "cell_type": "code",
   "execution_count": null,
   "metadata": {
    "id": "hnY5jcq6iWc5"
   },
   "outputs": [],
   "source": [
    "# Basic Configs\n",
    "data_dir = '/content/drive/My Drive/Colab Notebooks/data_dir'\n",
    "# Select to articles from file\n",
    "num_of_articles = 10000\n",
    "# Maximum sequence length\n",
    "sentense_len = 150\n",
    "# shingle configs\n",
    "shingles_range = (70, 100, 130)\n",
    "# how many shingles generate per line\n",
    "shingle_per_line = 10 \n",
    "# out of vocabulary token\n",
    "oov_str = 'oov'"
   ]
  },
  {
   "cell_type": "code",
   "execution_count": null,
   "metadata": {
    "colab": {
     "base_uri": "https://localhost:8080/"
    },
    "id": "itvVpjL1wtJ0",
    "outputId": "3ec61ee6-a8a4-4a65-ce0e-a81a10f2b30e"
   },
   "outputs": [
    {
     "name": "stdout",
     "output_type": "stream",
     "text": [
      "Mounted at /content/drive\n"
     ]
    }
   ],
   "source": [
    "from google.colab import drive\n",
    "drive.mount('/content/drive')"
   ]
  },
  {
   "cell_type": "code",
   "execution_count": null,
   "metadata": {
    "id": "eFPygr6biWdF"
   },
   "outputs": [],
   "source": [
    "# language code wise full name mapping\n",
    "lang_code_dict = {\n",
    "    'en':'english', 'de':'german', \n",
    "    'fr':'french', 'it':'italian', \n",
    "    'es':'spanish'\n",
    "}"
   ]
  },
  {
   "cell_type": "code",
   "execution_count": null,
   "metadata": {
    "id": "OO4pVwxwiWdP"
   },
   "outputs": [],
   "source": [
    "# language code wise data file mapping\n",
    "data_info = {\n",
    "    'en' : data_dir + '/wiki.en.text',\n",
    "    'de' : data_dir + '/wiki.de.text',\n",
    "    'fr' : data_dir + '/wiki.fr.text',\n",
    "    'it' : data_dir + '/wiki.it.text',\n",
    "    'es' : data_dir + '/wiki.es.text',\n",
    "}"
   ]
  },
  {
   "cell_type": "code",
   "execution_count": null,
   "metadata": {
    "colab": {
     "base_uri": "https://localhost:8080/"
    },
    "id": "VbFFvoWPiWdZ",
    "outputId": "3d6bc503-16f0-4bee-bd9e-47bc734c2e77"
   },
   "outputs": [
    {
     "name": "stdout",
     "output_type": "stream",
     "text": [
      "en english /content/drive/My Drive/Colab Notebooks/data_dir/wiki.en.text\n",
      "de german /content/drive/My Drive/Colab Notebooks/data_dir/wiki.de.text\n",
      "fr french /content/drive/My Drive/Colab Notebooks/data_dir/wiki.fr.text\n",
      "it italian /content/drive/My Drive/Colab Notebooks/data_dir/wiki.it.text\n",
      "es spanish /content/drive/My Drive/Colab Notebooks/data_dir/wiki.es.text\n"
     ]
    }
   ],
   "source": [
    "for lang_code, file_path in data_info.items():\n",
    "    print(lang_code, lang_code_dict[lang_code], file_path)"
   ]
  },
  {
   "cell_type": "code",
   "execution_count": null,
   "metadata": {
    "colab": {
     "base_uri": "https://localhost:8080/"
    },
    "id": "nUmgZL7XiWdo",
    "outputId": "5cae2384-19df-4ca7-b69d-256ef5a5c3ca"
   },
   "outputs": [
    {
     "name": "stdout",
     "output_type": "stream",
     "text": [
      "en 1\n",
      "de 7\n",
      "fr 1\n",
      "it 16\n",
      "es 24\n"
     ]
    }
   ],
   "source": [
    "# data loading\n",
    "data_dict = {}\n",
    "for lang_code, file_path in data_info.items():\n",
    "    with open(file_path, encoding='ISO-8859-1') as file:\n",
    "        lines = file.readlines()\n",
    "        lines = lines[:num_of_articles]\n",
    "        # convert to lower case\n",
    "        lines = [l.lower().strip() for l in lines]\n",
    "        data_dict[lang_code] = lines\n",
    "        print(lang_code, len(lines))"
   ]
  },
  {
   "cell_type": "code",
   "execution_count": null,
   "metadata": {
    "id": "4o_f7bwHiWd0"
   },
   "outputs": [],
   "source": [
    "def generate_shingles(line, length, total):\n",
    "    \"\"\"\n",
    "    Generate shingles from line\n",
    "    \"\"\"\n",
    "    #todo: USE SET to remove REDUUUUUU\n",
    "    shingle_list = [] \n",
    "    max_index = len(line) - length\n",
    "    if max_index > 0:\n",
    "        for _ in range(total):\n",
    "            index = random.randint(0, max_index)\n",
    "            shingle_text = line[index:index+length]\n",
    "            shingle_list.append(shingle_text)\n",
    "    else:\n",
    "        shingle_list.append(line)\n",
    "    return shingle_list"
   ]
  },
  {
   "cell_type": "code",
   "execution_count": null,
   "metadata": {
    "id": "diHKOGtziWd6"
   },
   "outputs": [],
   "source": [
    "def generate_shingles_lines(line, length, total):\n",
    "    \"\"\"\n",
    "    Generate shingles from list of lines\n",
    "    \"\"\"\n",
    "    shingle_list = []\n",
    "    for line in lines:\n",
    "        shingles = generate_shingles(line=line, length=length, total=total)\n",
    "        shingle_list.extend(shingles)\n",
    "    return shingle_list"
   ]
  },
  {
   "cell_type": "code",
   "execution_count": null,
   "metadata": {
    "colab": {
     "base_uri": "https://localhost:8080/"
    },
    "id": "VQ1Ei_RMiWeB",
    "outputId": "cfe1958e-6c66-4911-b705-b8c007078914"
   },
   "outputs": [
    {
     "name": "stdout",
     "output_type": "stream",
     "text": [
      "en 30\n",
      "de 210\n",
      "fr 30\n",
      "it 480\n",
      "es 720\n"
     ]
    }
   ],
   "source": [
    "# generate shingles\n",
    "shingle_data_dict = {}\n",
    "for lang, lines in data_dict.items():\n",
    "    shingle_list = []\n",
    "    for s_range in shingles_range:\n",
    "        shingles = generate_shingles_lines(lines, s_range, shingle_per_line)\n",
    "        shingle_list.extend(shingles)\n",
    "    shingle_data_dict[lang] = shingle_list\n",
    "    print(lang, len(shingle_list))"
   ]
  },
  {
   "cell_type": "code",
   "execution_count": null,
   "metadata": {
    "colab": {
     "base_uri": "https://localhost:8080/"
    },
    "id": "o3FNx7OQiWeM",
    "outputId": "1a0d12f5-6417-42c9-e01d-59fbec54ce88"
   },
   "outputs": [
    {
     "name": "stdout",
     "output_type": "stream",
     "text": [
      "1470 1470\n"
     ]
    }
   ],
   "source": [
    "# create list of lines and labels\n",
    "data_lines, labels = [], []\n",
    "for lang, samples in shingle_data_dict.items():\n",
    "    data_lines.extend(samples)\n",
    "    total_samples = len(samples)\n",
    "    labels.extend([lang] * total_samples)\n",
    "print(len(data_lines), len(labels))"
   ]
  },
  {
   "cell_type": "code",
   "execution_count": null,
   "metadata": {
    "colab": {
     "base_uri": "https://localhost:8080/"
    },
    "id": "7tnl8IhViWeV",
    "outputId": "14aa58c3-fa2d-4b33-8531-b15d7b000e38"
   },
   "outputs": [
    {
     "name": "stdout",
     "output_type": "stream",
     "text": [
      "[' ', 'e', 'n', 'a', 'r', 'i', 's', 'l', 'd', 't', 'o', 'c', 'u', 'm', 'p', 'g', 'b', 'v', 'h', 'f', 'z', 'q', 'í', 'j', 'ó', 'y', 'é', 'á', 'w', 'k', 'ñ', 'x', 'ò', 'ú', 'ü', 'à', 'ä', 'ö', 'è', 'ù', 'ß', 'ì', 'â', 'î', '²', 'ç', '³', 'ê', 'ô', 'oov']\n"
     ]
    }
   ],
   "source": [
    "# create list of all characters from all data lines\n",
    "data_char_ls = []\n",
    "for line in data_lines:\n",
    "    char_ls = [c for c in line]\n",
    "    data_char_ls.append(char_ls)\n",
    "    \n",
    "# count all characters\n",
    "cunt = Counter(x for xs in data_char_ls for x in set(xs))\n",
    "\n",
    "# create vocabulary\n",
    "char_vocab = [c[0] for c in cunt.most_common(76)] + [oov_str]\n",
    "print(char_vocab)"
   ]
  },
  {
   "cell_type": "code",
   "execution_count": null,
   "metadata": {
    "colab": {
     "base_uri": "https://localhost:8080/"
    },
    "id": "ohgAdxTviWed",
    "outputId": "c318c342-fea3-4110-dde8-d4384d2df9d5"
   },
   "outputs": [
    {
     "name": "stdout",
     "output_type": "stream",
     "text": [
      "{' ': 1, 'e': 2, 'n': 3, 'a': 4, 'r': 5, 'i': 6, 's': 7, 'l': 8, 'd': 9, 't': 10, 'o': 11, 'c': 12, 'u': 13, 'm': 14, 'p': 15, 'g': 16, 'b': 17, 'v': 18, 'h': 19, 'f': 20, 'z': 21, 'q': 22, 'í': 23, 'j': 24, 'ó': 25, 'y': 26, 'é': 27, 'á': 28, 'w': 29, 'k': 30, 'ñ': 31, 'x': 32, 'ò': 33, 'ú': 34, 'ü': 35, 'à': 36, 'ä': 37, 'ö': 38, 'è': 39, 'ù': 40, 'ß': 41, 'ì': 42, 'â': 43, 'î': 44, '²': 45, 'ç': 46, '³': 47, 'ê': 48, 'ô': 49, 'oov': 50}\n",
      "\n",
      "{1: ' ', 2: 'e', 3: 'n', 4: 'a', 5: 'r', 6: 'i', 7: 's', 8: 'l', 9: 'd', 10: 't', 11: 'o', 12: 'c', 13: 'u', 14: 'm', 15: 'p', 16: 'g', 17: 'b', 18: 'v', 19: 'h', 20: 'f', 21: 'z', 22: 'q', 23: 'í', 24: 'j', 25: 'ó', 26: 'y', 27: 'é', 28: 'á', 29: 'w', 30: 'k', 31: 'ñ', 32: 'x', 33: 'ò', 34: 'ú', 35: 'ü', 36: 'à', 37: 'ä', 38: 'ö', 39: 'è', 40: 'ù', 41: 'ß', 42: 'ì', 43: 'â', 44: 'î', 45: '²', 46: 'ç', 47: '³', 48: 'ê', 49: 'ô', 50: 'oov'}\n"
     ]
    }
   ],
   "source": [
    "# create dictionary for (char to index)\n",
    "# here we (index + 1) becoz, 0 index for padding\n",
    "ch2int = {c:i+1 for i, c in enumerate(char_vocab)}\n",
    "print(ch2int)\n",
    "print()\n",
    "# create dictionary for (index to char)\n",
    "int2ch = {i:c for c, i in ch2int.items()}\n",
    "print(int2ch)"
   ]
  },
  {
   "cell_type": "code",
   "execution_count": null,
   "metadata": {
    "id": "bth92VooiWem"
   },
   "outputs": [],
   "source": [
    "def encode(in_ls, key):\n",
    "    \"\"\"\n",
    "    encode list of character to index of characters using 'char2int' dictionary\n",
    "    \"\"\"\n",
    "    out_ls = []\n",
    "    for ch in in_ls:\n",
    "        index = key.get(ch)\n",
    "        if index is None:\n",
    "            index = key.get(oov_str)\n",
    "        out_ls.append(index)\n",
    "    return out_ls"
   ]
  },
  {
   "cell_type": "code",
   "execution_count": null,
   "metadata": {
    "colab": {
     "base_uri": "https://localhost:8080/"
    },
    "id": "Nqn6VNqqiWes",
    "outputId": "eea62ab3-26c7-415a-f693-01d1a4624d01"
   },
   "outputs": [
    {
     "name": "stdout",
     "output_type": "stream",
     "text": [
      "1470\n"
     ]
    }
   ],
   "source": [
    "# data encoding\n",
    "encoded_ls = [encode(l, ch2int) for l in data_lines]\n",
    "print(len(encoded_ls))"
   ]
  },
  {
   "cell_type": "code",
   "execution_count": null,
   "metadata": {
    "colab": {
     "base_uri": "https://localhost:8080/"
    },
    "id": "dg87NbwAiWe1",
    "outputId": "db3d9061-a85c-42c7-8c30-c949b1783908",
    "scrolled": true
   },
   "outputs": [
    {
     "data": {
      "text/plain": [
       "0"
      ]
     },
     "execution_count": 18,
     "metadata": {
      "tags": []
     },
     "output_type": "execute_result"
    }
   ],
   "source": [
    "# observe count 'oov' in dataset\n",
    "counts = 0\n",
    "for enc in encoded_ls:\n",
    "    if ch2int[oov_str] in enc:\n",
    "        counts += 1\n",
    "counts"
   ]
  },
  {
   "cell_type": "code",
   "execution_count": null,
   "metadata": {
    "id": "I65NVdSgiWe8"
   },
   "outputs": [],
   "source": [
    "# padding and trucating of encoded sequence\n",
    "X = pad_sequences(encoded_ls, maxlen=sentense_len, truncating='post', padding='post')"
   ]
  },
  {
   "cell_type": "code",
   "execution_count": null,
   "metadata": {
    "colab": {
     "base_uri": "https://localhost:8080/"
    },
    "id": "pnv0nOQuiWfB",
    "outputId": "4f8bac43-d683-4250-d11c-ac302f5a7102"
   },
   "outputs": [
    {
     "name": "stdout",
     "output_type": "stream",
     "text": [
      "['de' 'en' 'es' 'fr' 'it']\n"
     ]
    }
   ],
   "source": [
    "# target encoding from 'en' or 'de' language code to 0, 1 \n",
    "label_encoder = LabelEncoder()\n",
    "encoded_labels = label_encoder.fit_transform(labels)\n",
    "print(label_encoder.classes_)"
   ]
  },
  {
   "cell_type": "code",
   "execution_count": null,
   "metadata": {
    "id": "onQMem9xiWfI"
   },
   "outputs": [],
   "source": [
    "# one hot encoding of targets\n",
    "y = to_categorical(encoded_labels)"
   ]
  },
  {
   "cell_type": "code",
   "execution_count": null,
   "metadata": {
    "colab": {
     "base_uri": "https://localhost:8080/"
    },
    "id": "bkcTTuAriWfN",
    "outputId": "83ec6204-dfcd-4fae-d1ff-8200d2c32106"
   },
   "outputs": [
    {
     "name": "stdout",
     "output_type": "stream",
     "text": [
      "(1470, 150) (1470, 5)\n"
     ]
    }
   ],
   "source": [
    "print(X.shape, y.shape)"
   ]
  },
  {
   "cell_type": "code",
   "execution_count": null,
   "metadata": {
    "id": "ACYhlMwLiWfX"
   },
   "outputs": [],
   "source": [
    "# Train & Test split (70:30) ratio from full data\n",
    "X_train, X_test, y_train, y_test = train_test_split(X, y, test_size=0.30, random_state=42)"
   ]
  },
  {
   "cell_type": "code",
   "execution_count": null,
   "metadata": {
    "colab": {
     "base_uri": "https://localhost:8080/"
    },
    "id": "7M-eyG6diWfe",
    "outputId": "3e931164-2f81-4ee9-c395-471eb58e07bf"
   },
   "outputs": [
    {
     "name": "stdout",
     "output_type": "stream",
     "text": [
      "(1029, 150) (441, 150) (1029, 5) (441, 5)\n"
     ]
    }
   ],
   "source": [
    "print(X_train.shape, X_test.shape, y_train.shape, y_test.shape)"
   ]
  },
  {
   "cell_type": "code",
   "execution_count": null,
   "metadata": {
    "colab": {
     "base_uri": "https://localhost:8080/"
    },
    "id": "FgG3dcwDiWfk",
    "outputId": "69d865e4-3370-4e63-b663-06620be48050"
   },
   "outputs": [
    {
     "name": "stdout",
     "output_type": "stream",
     "text": [
      "Model: \"functional_1\"\n",
      "_________________________________________________________________\n",
      "Layer (type)                 Output Shape              Param #   \n",
      "=================================================================\n",
      "input_4 (InputLayer)         [(None, 150)]             0         \n",
      "_________________________________________________________________\n",
      "embedding_3 (Embedding)      (None, 150, 64)           3264      \n",
      "_________________________________________________________________\n",
      "conv1d_4 (Conv1D)            (None, 146, 64)           20544     \n",
      "_________________________________________________________________\n",
      "max_pooling1d_4 (MaxPooling1 (None, 29, 64)            0         \n",
      "_________________________________________________________________\n",
      "conv1d_5 (Conv1D)            (None, 25, 64)            20544     \n",
      "_________________________________________________________________\n",
      "max_pooling1d_5 (MaxPooling1 (None, 1, 64)             0         \n",
      "_________________________________________________________________\n",
      "flatten_2 (Flatten)          (None, 64)                0         \n",
      "_________________________________________________________________\n",
      "dense_4 (Dense)              (None, 64)                4160      \n",
      "_________________________________________________________________\n",
      "dense_5 (Dense)              (None, 5)                 325       \n",
      "=================================================================\n",
      "Total params: 48,837\n",
      "Trainable params: 48,837\n",
      "Non-trainable params: 0\n",
      "_________________________________________________________________\n"
     ]
    }
   ],
   "source": [
    "# Build the Neural network\n",
    "inp = Input(shape=(sentense_len, ))\n",
    "x = Embedding(input_dim=len(char_vocab) + 1, output_dim=64)(inp)\n",
    "x = Conv1D(64, 5, activation='relu')(x)\n",
    "x = MaxPool1D(5)(x)\n",
    "x = Conv1D(64, 5, activation='relu')(x)\n",
    "x = MaxPool1D(20)(x)\n",
    "x = Flatten()(x)\n",
    "x = Dense(64, activation='relu')(x)\n",
    "x = Dense(5, activation='softmax')(x)\n",
    "model = Model(inputs=inp, outputs=x)\n",
    "model.summary()\n",
    "model.compile(optimizer='adam', loss='categorical_crossentropy', metrics=['accuracy'])"
   ]
  },
  {
   "cell_type": "code",
   "execution_count": null,
   "metadata": {
    "colab": {
     "base_uri": "https://localhost:8080/"
    },
    "id": "OHB4PQUpiWfu",
    "outputId": "4bc02e69-2f08-46ed-e3a1-3bc02c0e6796"
   },
   "outputs": [
    {
     "name": "stdout",
     "output_type": "stream",
     "text": [
      "Epoch 1/5\n",
      "5/5 [==============================] - 1s 158ms/step - loss: 1.5602 - accuracy: 0.3644 - val_loss: 1.4489 - val_accuracy: 0.4921\n",
      "Epoch 2/5\n",
      "5/5 [==============================] - 1s 117ms/step - loss: 1.4073 - accuracy: 0.4888 - val_loss: 1.2789 - val_accuracy: 0.4921\n",
      "Epoch 3/5\n",
      "5/5 [==============================] - 1s 114ms/step - loss: 1.2502 - accuracy: 0.4888 - val_loss: 1.1596 - val_accuracy: 0.4921\n",
      "Epoch 4/5\n",
      "5/5 [==============================] - 1s 115ms/step - loss: 1.1723 - accuracy: 0.4888 - val_loss: 1.1041 - val_accuracy: 0.4921\n",
      "Epoch 5/5\n",
      "5/5 [==============================] - 1s 119ms/step - loss: 1.1473 - accuracy: 0.4888 - val_loss: 1.1040 - val_accuracy: 0.6463\n"
     ]
    },
    {
     "data": {
      "text/plain": [
       "<tensorflow.python.keras.callbacks.History at 0x7fd592d4bf98>"
      ]
     },
     "execution_count": 29,
     "metadata": {
      "tags": []
     },
     "output_type": "execute_result"
    }
   ],
   "source": [
    "# Train the model\n",
    "model.fit(X_train, y_train, validation_data=(X_test, y_test), batch_size=256, epochs=5)"
   ]
  },
  {
   "cell_type": "code",
   "execution_count": null,
   "metadata": {
    "id": "n2NqBbBdiWfz"
   },
   "outputs": [],
   "source": [
    "# prediction on test data\n",
    "pred = model.predict(X_test)"
   ]
  },
  {
   "cell_type": "code",
   "execution_count": null,
   "metadata": {
    "id": "yo77440ViWf7"
   },
   "outputs": [],
   "source": [
    "pred_y = pred.argmax(axis=1).ravel()\n",
    "actual_y = y_test.argmax(axis=1).ravel()"
   ]
  },
  {
   "cell_type": "code",
   "execution_count": null,
   "metadata": {
    "colab": {
     "base_uri": "https://localhost:8080/"
    },
    "id": "OGBiYP68iWgA",
    "outputId": "5dfaf9d5-9f4e-4815-d2e4-5bc51b4a15be"
   },
   "outputs": [
    {
     "name": "stdout",
     "output_type": "stream",
     "text": [
      "              precision    recall  f1-score   support\n",
      "\n",
      "          de       0.00      0.00      0.00        61\n",
      "          en       0.00      0.00      0.00         4\n",
      "          es       0.86      0.65      0.74       217\n",
      "          fr       0.00      0.00      0.00         9\n",
      "          it       0.52      0.95      0.67       150\n",
      "\n",
      "    accuracy                           0.65       441\n",
      "   macro avg       0.28      0.32      0.28       441\n",
      "weighted avg       0.60      0.65      0.59       441\n",
      "\n"
     ]
    },
    {
     "name": "stderr",
     "output_type": "stream",
     "text": [
      "/usr/local/lib/python3.6/dist-packages/sklearn/metrics/_classification.py:1272: UndefinedMetricWarning: Precision and F-score are ill-defined and being set to 0.0 in labels with no predicted samples. Use `zero_division` parameter to control this behavior.\n",
      "  _warn_prf(average, modifier, msg_start, len(result))\n"
     ]
    }
   ],
   "source": [
    "# Generate classification report\n",
    "report = classification_report(actual_y, pred_y, target_names=label_encoder.classes_)\n",
    "print(report)"
   ]
  },
  {
   "cell_type": "code",
   "execution_count": null,
   "metadata": {
    "id": "5F5M9KUOiWgG"
   },
   "outputs": [],
   "source": [
    "def predict(line):\n",
    "    \"\"\"\n",
    "    Prediction method for single line\n",
    "    \"\"\"\n",
    "    line = line.lower()\n",
    "    chars = [c for c in line]\n",
    "    encoded = encode(chars, ch2int)\n",
    "    padded = keras.preprocessing.sequence.pad_sequences([encoded], maxlen=sentense_len, truncating='post', padding='post')\n",
    "    scores = model.predict(padded)\n",
    "    max_index = scores[0].argmax()\n",
    "    lbl = label_encoder.classes_[max_index]\n",
    "    return lbl, scores[0][max_index]"
   ]
  },
  {
   "cell_type": "code",
   "execution_count": null,
   "metadata": {
    "colab": {
     "base_uri": "https://localhost:8080/"
    },
    "id": "_CB6UXTriWgM",
    "outputId": "1561c49b-f957-47cb-abd5-eff20e7897c5"
   },
   "outputs": [
    {
     "name": "stdout",
     "output_type": "stream",
     "text": [
      "('es', 0.4009181)\n"
     ]
    }
   ],
   "source": [
    "# sample perdiction\n",
    "print(predict('this is my sample text'))"
   ]
  },
  {
   "cell_type": "code",
   "execution_count": null,
   "metadata": {
    "id": "lpNL9rYkiWgR"
   },
   "outputs": [],
   "source": [
    "# Real time data from google news\n",
    "test_data = [\n",
    "    ('en', 'Today rural India and its villages have declared themselves'),\n",
    "    ('de', 'Es ist einer dieser Momente, bei denen man dabei gewesen sein will'),\n",
    "    ('fr', 'Mais rien ne permet pour l’instant de confirmer ces propos.'),\n",
    "    ('it', 'Il peso della compartecipazione dei cittadini (il ticket appunto) sarà cacolato'),\n",
    "    ('es', 'Después de la evaluación y las pruebas médicas, se descubrió que tenía un')\n",
    "]"
   ]
  },
  {
   "cell_type": "code",
   "execution_count": null,
   "metadata": {
    "colab": {
     "base_uri": "https://localhost:8080/"
    },
    "id": "59azV10fiWgX",
    "outputId": "93baf5df-46de-40f9-cddd-b818bae1083f"
   },
   "outputs": [
    {
     "name": "stdout",
     "output_type": "stream",
     "text": [
      "-----------------\n",
      "Data:Today rural India and its villages have declared themselves\n",
      "Predicted:('it', 0.4233026), Actual:en\n",
      "-----------------\n",
      "Data:Es ist einer dieser Momente, bei denen man dabei gewesen sein will\n",
      "Predicted:('it', 0.42256892), Actual:de\n",
      "-----------------\n",
      "Data:Mais rien ne permet pour l’instant de confirmer ces propos.\n",
      "Predicted:('it', 0.42087787), Actual:fr\n",
      "-----------------\n",
      "Data:Il peso della compartecipazione dei cittadini (il ticket appunto) sarà cacolato\n",
      "Predicted:('it', 0.43131608), Actual:it\n",
      "-----------------\n",
      "Data:Después de la evaluación y las pruebas médicas, se descubrió que tenía un\n",
      "Predicted:('es', 0.42752376), Actual:es\n"
     ]
    }
   ],
   "source": [
    "# predict on real time data\n",
    "for actual_lang, data in test_data:\n",
    "    print('-----------------')\n",
    "    print(f'Data:{data}')\n",
    "    print(f'Predicted:{predict(data)}, Actual:{actual_lang}')"
   ]
  }
 ],
 "metadata": {
  "colab": {
   "name": "Lang_Detection_CNN.ipynb",
   "provenance": []
  },
  "kernelspec": {
   "display_name": "Python 3",
   "language": "python",
   "name": "python3"
  },
  "language_info": {
   "codemirror_mode": {
    "name": "ipython",
    "version": 3
   },
   "file_extension": ".py",
   "mimetype": "text/x-python",
   "name": "python",
   "nbconvert_exporter": "python",
   "pygments_lexer": "ipython3",
   "version": "3.7.9"
  }
 },
 "nbformat": 4,
 "nbformat_minor": 1
}
