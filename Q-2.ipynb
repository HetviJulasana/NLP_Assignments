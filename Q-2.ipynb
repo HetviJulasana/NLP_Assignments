{
 "cells": [
  {
   "cell_type": "markdown",
   "metadata": {
    "colab_type": "text",
    "id": "wbKHQXwNUHB7"
   },
   "source": [
    "# 04 Aishawariya Athawale\n",
    "# 08 Pankti Fadia\n",
    "# 10 Hetvi Julasana"
   ]
  },
  {
   "cell_type": "markdown",
   "metadata": {
    "colab_type": "text",
    "id": "U0a1sex7UhRA"
   },
   "source": [
    "### Named Entity Tagger Assignment 2"
   ]
  },
  {
   "cell_type": "markdown",
   "metadata": {
    "colab_type": "text",
    "id": "an0G5NoQU2t-"
   },
   "source": [
    "NER using NLTK"
   ]
  },
  {
   "cell_type": "code",
   "execution_count": 30,
   "metadata": {
    "colab": {
     "base_uri": "https://localhost:8080/",
     "height": 254
    },
    "colab_type": "code",
    "id": "fXpUpXM6Pvkk",
    "outputId": "371b56f0-f9ed-4b40-a003-a0b9a1e30f9d"
   },
   "outputs": [
    {
     "name": "stdout",
     "output_type": "stream",
     "text": [
      "[nltk_data] Downloading package stopwords to /root/nltk_data...\n",
      "[nltk_data]   Package stopwords is already up-to-date!\n",
      "[nltk_data] Downloading package punkt to /root/nltk_data...\n",
      "[nltk_data]   Package punkt is already up-to-date!\n",
      "[nltk_data] Downloading package averaged_perceptron_tagger to\n",
      "[nltk_data]     /root/nltk_data...\n",
      "[nltk_data]   Package averaged_perceptron_tagger is already up-to-\n",
      "[nltk_data]       date!\n",
      "[nltk_data] Downloading package maxent_ne_chunker to\n",
      "[nltk_data]     /root/nltk_data...\n",
      "[nltk_data]   Package maxent_ne_chunker is already up-to-date!\n",
      "[nltk_data] Downloading package words to /root/nltk_data...\n",
      "[nltk_data]   Unzipping corpora/words.zip.\n"
     ]
    }
   ],
   "source": [
    "import nltk\n",
    "nltk.download('stopwords')\n",
    "nltk.download('punkt')\n",
    "nltk.download('averaged_perceptron_tagger')\n",
    "nltk.download('maxent_ne_chunker')\n",
    "nltk.download('words')\n",
    "from nltk.corpus import stopwords\n",
    "from nltk.tokenize import word_tokenize, sent_tokenize"
   ]
  },
  {
   "cell_type": "code",
   "execution_count": 31,
   "metadata": {
    "colab": {},
    "colab_type": "code",
    "id": "J2KCAxm4QRSL"
   },
   "outputs": [],
   "source": [
    "stop_words = set(stopwords.words('english'))"
   ]
  },
  {
   "cell_type": "code",
   "execution_count": 32,
   "metadata": {
    "colab": {},
    "colab_type": "code",
    "id": "vV8AmEbdQfki"
   },
   "outputs": [],
   "source": [
    "text = \"\"\"I don't know about that, but it's not only the owls that have been acting oddly today. Viewers as far apart as\n",
    "Kent, Yorkshire, and Dundee have been phoning in to tell me that instead of the rain I promised yesterday, they've had a downpour of shooting\n",
    "stars! Perhaps people have been celebrating Bonfire Night early -- it's not until next week, folks!\"\"\""
   ]
  },
  {
   "cell_type": "code",
   "execution_count": 33,
   "metadata": {
    "colab": {},
    "colab_type": "code",
    "id": "OBdLcGBbSUll"
   },
   "outputs": [],
   "source": [
    "tokenized = sent_tokenize(text)"
   ]
  },
  {
   "cell_type": "code",
   "execution_count": 44,
   "metadata": {
    "colab": {
     "base_uri": "https://localhost:8080/",
     "height": 1000
    },
    "colab_type": "code",
    "id": "Nj9Tt6I_Skge",
    "outputId": "75824a2e-84b2-4fde-d45e-ff3d0878a92a"
   },
   "outputs": [
    {
     "name": "stdout",
     "output_type": "stream",
     "text": [
      "tags =  [('I', 'PRP'), ('do', 'VBP'), (\"n't\", 'RB'), ('know', 'VB'), ('about', 'IN'), ('that', 'DT'), (',', ','), ('but', 'CC'), ('it', 'PRP'), (\"'s\", 'VBZ'), ('not', 'RB'), ('only', 'RB'), ('the', 'DT'), ('owls', 'NN'), ('that', 'WDT'), ('have', 'VBP'), ('been', 'VBN'), ('acting', 'VBG'), ('oddly', 'RB'), ('today', 'NN'), ('.', '.')] named entity =  (S\n",
      "  I/PRP\n",
      "  do/VBP\n",
      "  n't/RB\n",
      "  know/VB\n",
      "  about/IN\n",
      "  that/DT\n",
      "  ,/,\n",
      "  but/CC\n",
      "  it/PRP\n",
      "  's/VBZ\n",
      "  not/RB\n",
      "  only/RB\n",
      "  the/DT\n",
      "  owls/NN\n",
      "  that/WDT\n",
      "  have/VBP\n",
      "  been/VBN\n",
      "  acting/VBG\n",
      "  oddly/RB\n",
      "  today/NN\n",
      "  ./.)\n",
      "tags =  [('Viewers', 'NNS'), ('as', 'IN'), ('far', 'RB'), ('apart', 'RB'), ('as', 'IN'), ('Kent', 'NNP'), (',', ','), ('Yorkshire', 'NNP'), (',', ','), ('and', 'CC'), ('Dundee', 'NNP'), ('have', 'VBP'), ('been', 'VBN'), ('phoning', 'VBG'), ('in', 'IN'), ('to', 'TO'), ('tell', 'VB'), ('me', 'PRP'), ('that', 'IN'), ('instead', 'RB'), ('of', 'IN'), ('the', 'DT'), ('rain', 'NN'), ('I', 'PRP'), ('promised', 'VBD'), ('yesterday', 'NN'), (',', ','), ('they', 'PRP'), (\"'ve\", 'VBP'), ('had', 'VBD'), ('a', 'DT'), ('downpour', 'NN'), ('of', 'IN'), ('shooting', 'VBG'), ('stars', 'NNS'), ('!', '.')] named entity =  (S\n",
      "  Viewers/NNS\n",
      "  as/IN\n",
      "  far/RB\n",
      "  apart/RB\n",
      "  as/IN\n",
      "  (PERSON Kent/NNP)\n",
      "  ,/,\n",
      "  (PERSON Yorkshire/NNP)\n",
      "  ,/,\n",
      "  and/CC\n",
      "  (GPE Dundee/NNP)\n",
      "  have/VBP\n",
      "  been/VBN\n",
      "  phoning/VBG\n",
      "  in/IN\n",
      "  to/TO\n",
      "  tell/VB\n",
      "  me/PRP\n",
      "  that/IN\n",
      "  instead/RB\n",
      "  of/IN\n",
      "  the/DT\n",
      "  rain/NN\n",
      "  I/PRP\n",
      "  promised/VBD\n",
      "  yesterday/NN\n",
      "  ,/,\n",
      "  they/PRP\n",
      "  've/VBP\n",
      "  had/VBD\n",
      "  a/DT\n",
      "  downpour/NN\n",
      "  of/IN\n",
      "  shooting/VBG\n",
      "  stars/NNS\n",
      "  !/.)\n",
      "tags =  [('Perhaps', 'RB'), ('people', 'NNS'), ('have', 'VBP'), ('been', 'VBN'), ('celebrating', 'VBG'), ('Bonfire', 'NNP'), ('Night', 'NNP'), ('early', 'RB'), ('--', ':'), ('it', 'PRP'), (\"'s\", 'VBZ'), ('not', 'RB'), ('until', 'IN'), ('next', 'JJ'), ('week', 'NN'), (',', ','), ('folks', 'NNS'), ('!', '.')] named entity =  (S\n",
      "  Perhaps/RB\n",
      "  people/NNS\n",
      "  have/VBP\n",
      "  been/VBN\n",
      "  celebrating/VBG\n",
      "  (PERSON Bonfire/NNP Night/NNP)\n",
      "  early/RB\n",
      "  --/:\n",
      "  it/PRP\n",
      "  's/VBZ\n",
      "  not/RB\n",
      "  until/IN\n",
      "  next/JJ\n",
      "  week/NN\n",
      "  ,/,\n",
      "  folks/NNS\n",
      "  !/.)\n"
     ]
    }
   ],
   "source": [
    "for word in tokenized:\n",
    "  wordslist = nltk.word_tokenize(word)\n",
    "  tag = nltk.pos_tag(wordslist)\n",
    "  name_entity = nltk.ne_chunk(tag)\n",
    "  print(\"tags = \", tag, \"named entity = \", name_entity)"
   ]
  },
  {
   "cell_type": "markdown",
   "metadata": {
    "colab_type": "text",
    "id": "_VXaqOKmVEXS"
   },
   "source": [
    "NER using SpaCy"
   ]
  },
  {
   "cell_type": "code",
   "execution_count": 37,
   "metadata": {
    "colab": {},
    "colab_type": "code",
    "id": "fOB_wJu-Td4G"
   },
   "outputs": [],
   "source": [
    "import spacy\n",
    "from spacy import displacy\n",
    "from collections import Counter\n",
    "import en_core_web_sm"
   ]
  },
  {
   "cell_type": "code",
   "execution_count": 38,
   "metadata": {
    "colab": {},
    "colab_type": "code",
    "id": "A8kccXsSVKhG"
   },
   "outputs": [],
   "source": [
    "ner = en_core_web_sm.load()"
   ]
  },
  {
   "cell_type": "code",
   "execution_count": 41,
   "metadata": {
    "colab": {},
    "colab_type": "code",
    "id": "tuEbQ20ZVm5U"
   },
   "outputs": [],
   "source": [
    "text = ner(\"\"\"I don't know about that, but it's not only the owls that have been acting oddly today. Viewers as far apart as\n",
    "Kent, Yorkshire, and Dundee have been phoning in to tell me that instead of the rain I promised yesterday, they've had a downpour of shooting\n",
    "stars! Perhaps people have been celebrating Bonfire Night early -- it's not until next week, folks!\"\"\")"
   ]
  },
  {
   "cell_type": "code",
   "execution_count": 42,
   "metadata": {
    "colab": {
     "base_uri": "https://localhost:8080/",
     "height": 145
    },
    "colab_type": "code",
    "id": "2Ql6oY1DVyGc",
    "outputId": "50d7aaa7-def5-4d44-cb5d-ea3c090add19"
   },
   "outputs": [
    {
     "name": "stdout",
     "output_type": "stream",
     "text": [
      "['today', 'DATE']\n",
      "['Kent', 'PERSON']\n",
      "['Yorkshire', 'PERSON']\n",
      "['Dundee', 'ORG']\n",
      "['yesterday', 'DATE']\n",
      "['Bonfire Night', 'PERSON']\n",
      "['next week', 'DATE']\n"
     ]
    }
   ],
   "source": [
    "for entity in text.ents:\n",
    "  print([entity.text, entity.label_])"
   ]
  },
  {
   "cell_type": "code",
   "execution_count": 45,
   "metadata": {
    "colab": {
     "base_uri": "https://localhost:8080/",
     "height": 1000
    },
    "colab_type": "code",
    "id": "TTgc7F0tWNe9",
    "outputId": "39a7eb95-9200-4dc6-caa2-6e3bfbaff531"
   },
   "outputs": [
    {
     "name": "stdout",
     "output_type": "stream",
     "text": [
      "[I, 'O', 0]\n",
      "[do, 'O', 0]\n",
      "[n't, 'O', 0]\n",
      "[know, 'O', 0]\n",
      "[about, 'O', 0]\n",
      "[that, 'O', 0]\n",
      "[,, 'O', 0]\n",
      "[but, 'O', 0]\n",
      "[it, 'O', 0]\n",
      "['s, 'O', 0]\n",
      "[not, 'O', 0]\n",
      "[only, 'O', 0]\n",
      "[the, 'O', 0]\n",
      "[owls, 'O', 0]\n",
      "[that, 'O', 0]\n",
      "[have, 'O', 0]\n",
      "[been, 'O', 0]\n",
      "[acting, 'O', 0]\n",
      "[oddly, 'O', 0]\n",
      "[today, 'B', 391]\n",
      "[., 'O', 0]\n",
      "[Viewers, 'O', 0]\n",
      "[as, 'O', 0]\n",
      "[far, 'O', 0]\n",
      "[apart, 'O', 0]\n",
      "[as, 'O', 0]\n",
      "[\n",
      ", 'O', 0]\n",
      "[Kent, 'B', 380]\n",
      "[,, 'O', 0]\n",
      "[Yorkshire, 'B', 380]\n",
      "[,, 'O', 0]\n",
      "[and, 'O', 0]\n",
      "[Dundee, 'B', 383]\n",
      "[have, 'O', 0]\n",
      "[been, 'O', 0]\n",
      "[phoning, 'O', 0]\n",
      "[in, 'O', 0]\n",
      "[to, 'O', 0]\n",
      "[tell, 'O', 0]\n",
      "[me, 'O', 0]\n",
      "[that, 'O', 0]\n",
      "[instead, 'O', 0]\n",
      "[of, 'O', 0]\n",
      "[the, 'O', 0]\n",
      "[rain, 'O', 0]\n",
      "[I, 'O', 0]\n",
      "[promised, 'O', 0]\n",
      "[yesterday, 'B', 391]\n",
      "[,, 'O', 0]\n",
      "[they, 'O', 0]\n",
      "['ve, 'O', 0]\n",
      "[had, 'O', 0]\n",
      "[a, 'O', 0]\n",
      "[downpour, 'O', 0]\n",
      "[of, 'O', 0]\n",
      "[shooting, 'O', 0]\n",
      "[\n",
      ", 'O', 0]\n",
      "[stars, 'O', 0]\n",
      "[!, 'O', 0]\n",
      "[Perhaps, 'O', 0]\n",
      "[people, 'O', 0]\n",
      "[have, 'O', 0]\n",
      "[been, 'O', 0]\n",
      "[celebrating, 'O', 0]\n",
      "[Bonfire, 'B', 380]\n",
      "[Night, 'I', 380]\n",
      "[early, 'O', 0]\n",
      "[--, 'O', 0]\n",
      "[it, 'O', 0]\n",
      "['s, 'O', 0]\n",
      "[not, 'O', 0]\n",
      "[until, 'O', 0]\n",
      "[next, 'B', 391]\n",
      "[week, 'I', 391]\n",
      "[,, 'O', 0]\n",
      "[folks, 'O', 0]\n",
      "[!, 'O', 0]\n"
     ]
    }
   ],
   "source": [
    "for entity in text:\n",
    "  print([entity, entity.ent_iob_,entity.ent_type])"
   ]
  },
  {
   "cell_type": "markdown",
   "metadata": {
    "colab_type": "text",
    "id": "-l-JH--5XUfb"
   },
   "source": [
    "### Other NER Tools"
   ]
  },
  {
   "cell_type": "markdown",
   "metadata": {
    "colab_type": "text",
    "id": "ozDTqgDXX-nB"
   },
   "source": [
    "**NCHLT tagger:** It is a cross platform graphical user interface & command line tool for automatic text processing.\n",
    "Functionality: POS_tagging, phrase chunking & NER.\n",
    "Languages: Afrikaans, English, Ndebele, Xhosa, Zulu, Pedi Setswana, Sesotho, Swazi, Venda, Tssonga\n",
    "\n",
    "**FreeLing:** It is an open source language analysis tool suite that provides several processing components.\n",
    "Functionality: tokenisation, MSD-tagging, syntactic parsing, lemmatization, NER.\n",
    "NER categories: person, location, organisation, miscellaneous.\n",
    "Languages: Catalan, English, Galician, Italian, Portuguese, Welsh"
   ]
  },
  {
   "cell_type": "markdown",
   "metadata": {
    "colab_type": "text",
    "id": "_x2XdgffZoqK"
   },
   "source": [
    "**OpenNLP Name Finder (English):** This NER can be applied to independently uploaded corpora that are compatible with the tool’s requirements.\n",
    "Functionality: NER.\n",
    "NER categories: person, location, organization.\n",
    "Languages: English\n",
    "\n",
    "**GATE:** This is a complete NLP platform with modules for named entity recognition.\n",
    "Functionality: tokenization, PoS-tagging, NER, semantic and orthographic coreference, pronominal coreference.\n",
    "NER categories: person, location, organisation, date, percent, money.\n",
    "Languages: English, French, German, Romanian, Russian, Welsh, Danish, Chinese, Arabic"
   ]
  }
 ],
 "metadata": {
  "colab": {
   "name": "NLP Assiggnment 2.ipynb",
   "provenance": []
  },
  "kernelspec": {
   "display_name": "Python 3",
   "language": "python",
   "name": "python3"
  },
  "language_info": {
   "codemirror_mode": {
    "name": "ipython",
    "version": 3
   },
   "file_extension": ".py",
   "mimetype": "text/x-python",
   "name": "python",
   "nbconvert_exporter": "python",
   "pygments_lexer": "ipython3",
   "version": "3.7.9"
  }
 },
 "nbformat": 4,
 "nbformat_minor": 1
}
